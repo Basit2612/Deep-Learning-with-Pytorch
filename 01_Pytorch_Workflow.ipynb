{
  "nbformat": 4,
  "nbformat_minor": 0,
  "metadata": {
    "colab": {
      "provenance": [],
      "include_colab_link": true
    },
    "kernelspec": {
      "name": "python3",
      "display_name": "Python 3"
    },
    "language_info": {
      "name": "python"
    }
  },
  "cells": [
    {
      "cell_type": "markdown",
      "metadata": {
        "id": "view-in-github",
        "colab_type": "text"
      },
      "source": [
        "<a href=\"https://colab.research.google.com/github/Basit2612/Deep-Learning-with-Pytorch/blob/main/01_Pytorch_Workflow.ipynb\" target=\"_parent\"><img src=\"https://colab.research.google.com/assets/colab-badge.svg\" alt=\"Open In Colab\"/></a>"
      ]
    },
    {
      "cell_type": "code",
      "source": [
        "import torch\n",
        "from torch import nn\n",
        "import matplotlib.pyplot as plt\n",
        "\n",
        "torch.__version__"
      ],
      "metadata": {
        "colab": {
          "base_uri": "https://localhost:8080/",
          "height": 35
        },
        "id": "Q5Bpd4RVEMaL",
        "outputId": "2f8917a2-0508-4b19-b6a6-96ce08256c7a"
      },
      "execution_count": null,
      "outputs": [
        {
          "output_type": "execute_result",
          "data": {
            "text/plain": [
              "'2.2.1+cu121'"
            ],
            "application/vnd.google.colaboratory.intrinsic+json": {
              "type": "string"
            }
          },
          "metadata": {},
          "execution_count": 1
        }
      ]
    },
    {
      "cell_type": "markdown",
      "source": [
        "# Data Preparing & Loading"
      ],
      "metadata": {
        "id": "7wTv0uGKMnXu"
      }
    },
    {
      "cell_type": "code",
      "source": [
        "weights = 0.7\n",
        "bias = 0.3\n",
        "\n",
        "X = torch.arange(0,1,0.02).unsqueeze(1)\n",
        "y = weights * X + bias\n",
        "\n",
        "print(X[:10], y[:10])"
      ],
      "metadata": {
        "colab": {
          "base_uri": "https://localhost:8080/"
        },
        "id": "k-lVlihWMsyZ",
        "outputId": "9898642d-6784-4d0b-c958-1b4e00d6653e"
      },
      "execution_count": null,
      "outputs": [
        {
          "output_type": "stream",
          "name": "stdout",
          "text": [
            "tensor([[0.0000],\n",
            "        [0.0200],\n",
            "        [0.0400],\n",
            "        [0.0600],\n",
            "        [0.0800],\n",
            "        [0.1000],\n",
            "        [0.1200],\n",
            "        [0.1400],\n",
            "        [0.1600],\n",
            "        [0.1800]]) tensor([[0.3000],\n",
            "        [0.3140],\n",
            "        [0.3280],\n",
            "        [0.3420],\n",
            "        [0.3560],\n",
            "        [0.3700],\n",
            "        [0.3840],\n",
            "        [0.3980],\n",
            "        [0.4120],\n",
            "        [0.4260]])\n"
          ]
        }
      ]
    },
    {
      "cell_type": "code",
      "source": [
        "len(X), len(y)"
      ],
      "metadata": {
        "colab": {
          "base_uri": "https://localhost:8080/"
        },
        "id": "55feebR9Ob53",
        "outputId": "f760a031-e03e-4f27-9eb1-a65d8d3b8d59"
      },
      "execution_count": null,
      "outputs": [
        {
          "output_type": "execute_result",
          "data": {
            "text/plain": [
              "(50, 50)"
            ]
          },
          "metadata": {},
          "execution_count": 3
        }
      ]
    },
    {
      "cell_type": "code",
      "source": [
        "train_split = int(0.8 * len(X))\n",
        "X_train, y_train = X[:train_split], y[:train_split]\n",
        "X_test, y_test = X[train_split:], y[train_split:]\n",
        "len(X_train), len(y_train), len(X_test), len(y_test)"
      ],
      "metadata": {
        "colab": {
          "base_uri": "https://localhost:8080/"
        },
        "id": "db4d7q4MO9lU",
        "outputId": "c86f2794-0b0e-4c7b-f234-ba0be2860ef6"
      },
      "execution_count": null,
      "outputs": [
        {
          "output_type": "execute_result",
          "data": {
            "text/plain": [
              "(40, 40, 10, 10)"
            ]
          },
          "metadata": {},
          "execution_count": 4
        }
      ]
    },
    {
      "cell_type": "markdown",
      "source": [
        "# Building a PyTorch model"
      ],
      "metadata": {
        "id": "2JfGCELSUEb2"
      }
    },
    {
      "cell_type": "markdown",
      "source": [
        "## Linear Regression Model"
      ],
      "metadata": {
        "id": "Fm5n-w9AUL-W"
      }
    },
    {
      "cell_type": "code",
      "source": [
        "random_tensor_normal = torch.randn(2, 3)\n",
        "print(\"Random tensor (normal distribution):\\n\", random_tensor_normal)\n",
        "torch.mean(random_tensor_normal), random_tensor_normal.mean()"
      ],
      "metadata": {
        "colab": {
          "base_uri": "https://localhost:8080/"
        },
        "id": "nuxUzZwT7ymT",
        "outputId": "69fa8321-9cea-45e8-a38b-2b7868177022"
      },
      "execution_count": null,
      "outputs": [
        {
          "output_type": "stream",
          "name": "stdout",
          "text": [
            "Random tensor (normal distribution):\n",
            " tensor([[-0.1211,  1.9173, -0.9790],\n",
            "        [-0.7811, -0.7694, -0.7432]])\n"
          ]
        },
        {
          "output_type": "execute_result",
          "data": {
            "text/plain": [
              "(tensor(-0.2461), tensor(-0.2461))"
            ]
          },
          "metadata": {},
          "execution_count": 5
        }
      ]
    },
    {
      "cell_type": "code",
      "source": [
        "from torch import nn\n",
        "\n",
        "class LinearRegressionModel(nn.Module):\n",
        "  def __init__(self):\n",
        "    super().__init__()\n",
        "    self.weights = nn.Parameter(torch.randn(1,\n",
        "                                            requires_grad=True,\n",
        "                                            dtype = torch.float))\n",
        "\n",
        "    self.bias = nn.Parameter(torch.randn(1,\n",
        "                                         requires_grad=True,\n",
        "                                         dtype=torch.float))\n",
        "\n",
        "  def forward(self, x: torch.Tensor):\n",
        "    return self.weights * x + self.bias"
      ],
      "metadata": {
        "id": "1XnG7pAlUR4r"
      },
      "execution_count": null,
      "outputs": []
    },
    {
      "cell_type": "code",
      "source": [
        "torch.manual_seed(42)\n",
        "\n",
        "model_0 = LinearRegressionModel()\n",
        "\n",
        "list(model_0.parameters())"
      ],
      "metadata": {
        "colab": {
          "base_uri": "https://localhost:8080/"
        },
        "id": "P0XdMpoF76YH",
        "outputId": "e30926d0-9310-4ed4-868c-7e21fa017d14"
      },
      "execution_count": null,
      "outputs": [
        {
          "output_type": "execute_result",
          "data": {
            "text/plain": [
              "[Parameter containing:\n",
              " tensor([0.3367], requires_grad=True),\n",
              " Parameter containing:\n",
              " tensor([0.1288], requires_grad=True)]"
            ]
          },
          "metadata": {},
          "execution_count": 7
        }
      ]
    },
    {
      "cell_type": "code",
      "source": [
        "model_0.state_dict()"
      ],
      "metadata": {
        "colab": {
          "base_uri": "https://localhost:8080/"
        },
        "id": "TGdYm7nYTd0U",
        "outputId": "05921481-a1c4-4e97-b043-1aeb9faebd7a"
      },
      "execution_count": null,
      "outputs": [
        {
          "output_type": "execute_result",
          "data": {
            "text/plain": [
              "OrderedDict([('weights', tensor([0.3367])), ('bias', tensor([0.1288]))])"
            ]
          },
          "metadata": {},
          "execution_count": 8
        }
      ]
    },
    {
      "cell_type": "code",
      "source": [
        "def predictions(X_train=X_train, y_train=y_train, X_test=X_test, y_test=y_test, prediction=None):\n",
        "  plt.figure(figsize=(10,7))\n",
        "  plt.scatter(X_train, y_train, color=\"b\", s=4, label=\"Training_data\")\n",
        "  plt.scatter(X_test, y_test, c=\"g\", s=4, label=\"Testing_data\")\n",
        "\n",
        "  if prediction is not None:\n",
        "    plt.scatter(X_test, prediction, c=\"r\", s=4, label=\"Prediction\")\n",
        "\n",
        "  plt.legend(prop={\"size\":14})\n",
        "  plt.show\n",
        "\n",
        "predictions()"
      ],
      "metadata": {
        "colab": {
          "base_uri": "https://localhost:8080/",
          "height": 460
        },
        "id": "VVhCez5iQtP9",
        "outputId": "9224e627-4f7c-45f4-aa34-f24f949f11c1"
      },
      "execution_count": null,
      "outputs": [
        {
          "output_type": "display_data",
          "data": {
            "text/plain": [
              "<Figure size 1000x700 with 1 Axes>"
            ],
            "image/png": "[encoded data removed]"
          },
          "metadata": {}
        }
      ]
    },
    {
      "cell_type": "code",
      "source": [
        "with torch.inference_mode():\n",
        "  y_preds = model_0(X_test)\n",
        "\n",
        "predictions(prediction=y_preds)"
      ],
      "metadata": {
        "id": "I0YW5vprWX2q",
        "colab": {
          "base_uri": "https://localhost:8080/",
          "height": 460
        },
        "outputId": "da2c0525-84ec-4559-8e58-69677329122e"
      },
      "execution_count": null,
      "outputs": [
        {
          "output_type": "display_data",
          "data": {
            "text/plain": [
              "<Figure size 1000x700 with 1 Axes>"
            ],
            "image/png": "[encoded data removed]"
          },
          "metadata": {}
        }
      ]
    },
    {
      "cell_type": "code",
      "source": [
        "with torch.no_grad():\n",
        "  Y_preds=model_0(X_test)\n",
        "\n",
        "Y_preds"
      ],
      "metadata": {
        "colab": {
          "base_uri": "https://localhost:8080/"
        },
        "id": "-iXKFhK7ACGR",
        "outputId": "b963ed4b-ef96-4722-cc40-eb630633b506"
      },
      "execution_count": null,
      "outputs": [
        {
          "output_type": "execute_result",
          "data": {
            "text/plain": [
              "tensor([[0.3982],\n",
              "        [0.4049],\n",
              "        [0.4116],\n",
              "        [0.4184],\n",
              "        [0.4251],\n",
              "        [0.4318],\n",
              "        [0.4386],\n",
              "        [0.4453],\n",
              "        [0.4520],\n",
              "        [0.4588]])"
            ]
          },
          "metadata": {},
          "execution_count": 11
        }
      ]
    },
    {
      "cell_type": "code",
      "source": [
        "y_preds == Y_preds"
      ],
      "metadata": {
        "colab": {
          "base_uri": "https://localhost:8080/"
        },
        "id": "1OQr6QVCAPth",
        "outputId": "3eff6936-1a67-474d-e3d4-76cdf70d1313"
      },
      "execution_count": null,
      "outputs": [
        {
          "output_type": "execute_result",
          "data": {
            "text/plain": [
              "tensor([[True],\n",
              "        [True],\n",
              "        [True],\n",
              "        [True],\n",
              "        [True],\n",
              "        [True],\n",
              "        [True],\n",
              "        [True],\n",
              "        [True],\n",
              "        [True]])"
            ]
          },
          "metadata": {},
          "execution_count": 12
        }
      ]
    },
    {
      "cell_type": "code",
      "source": [
        "y_test"
      ],
      "metadata": {
        "id": "-31mmYsmScXX",
        "colab": {
          "base_uri": "https://localhost:8080/"
        },
        "outputId": "7a6b8e6a-6fcc-4fe1-e2a3-721399fdfbc6"
      },
      "execution_count": null,
      "outputs": [
        {
          "output_type": "execute_result",
          "data": {
            "text/plain": [
              "tensor([[0.8600],\n",
              "        [0.8740],\n",
              "        [0.8880],\n",
              "        [0.9020],\n",
              "        [0.9160],\n",
              "        [0.9300],\n",
              "        [0.9440],\n",
              "        [0.9580],\n",
              "        [0.9720],\n",
              "        [0.9860]])"
            ]
          },
          "metadata": {},
          "execution_count": 13
        }
      ]
    },
    {
      "cell_type": "markdown",
      "source": [
        "# Training Model"
      ],
      "metadata": {
        "id": "gck2_TZGBRRK"
      }
    },
    {
      "cell_type": "code",
      "source": [
        "list(model_0.parameters())"
      ],
      "metadata": {
        "colab": {
          "base_uri": "https://localhost:8080/"
        },
        "id": "5S50uTGsBZ2u",
        "outputId": "cd24b1b2-3367-43b5-c2a0-7714fe8583c2"
      },
      "execution_count": null,
      "outputs": [
        {
          "output_type": "execute_result",
          "data": {
            "text/plain": [
              "[Parameter containing:\n",
              " tensor([0.3367], requires_grad=True),\n",
              " Parameter containing:\n",
              " tensor([0.1288], requires_grad=True)]"
            ]
          },
          "metadata": {},
          "execution_count": 14
        }
      ]
    },
    {
      "cell_type": "code",
      "source": [
        "model_0.state_dict()"
      ],
      "metadata": {
        "colab": {
          "base_uri": "https://localhost:8080/"
        },
        "id": "wEUazQOACNmi",
        "outputId": "bf39c50d-1255-42c9-d1bf-d95adda9d593"
      },
      "execution_count": null,
      "outputs": [
        {
          "output_type": "execute_result",
          "data": {
            "text/plain": [
              "OrderedDict([('weights', tensor([0.3367])), ('bias', tensor([0.1288]))])"
            ]
          },
          "metadata": {},
          "execution_count": 15
        }
      ]
    },
    {
      "cell_type": "code",
      "source": [
        "MAE_loss = torch.mean(torch.abs(y_test-y_preds))\n",
        "MAE_loss"
      ],
      "metadata": {
        "colab": {
          "base_uri": "https://localhost:8080/"
        },
        "id": "RpX6-6dxCaqS",
        "outputId": "b96b47f3-183f-4497-eb34-850a4796848d"
      },
      "execution_count": null,
      "outputs": [
        {
          "output_type": "execute_result",
          "data": {
            "text/plain": [
              "tensor(0.4945)"
            ]
          },
          "metadata": {},
          "execution_count": 16
        }
      ]
    },
    {
      "cell_type": "code",
      "source": [
        "loss_fn = nn.L1Loss()\n",
        "optimizer = torch.optim.SGD(params= model_0.parameters(),\n",
        "                            lr = 0.01)"
      ],
      "metadata": {
        "id": "65pEtbAnDugR"
      },
      "execution_count": null,
      "outputs": []
    },
    {
      "cell_type": "code",
      "source": [
        "epochs = 200\n",
        "\n",
        "#Track different Values\n",
        "epoch_count =[]\n",
        "loss_count =[]\n",
        "test_loss_count = []\n",
        "\n",
        "for epoch in range(epochs):\n",
        "  model_0.train()\n",
        "\n",
        "  # Forward pass\n",
        "  y_pred = model_0(X_train)\n",
        "\n",
        "  #Calculate the bias\n",
        "  loss = loss_fn(y_pred, y_train)\n",
        "\n",
        "  #Optimizer\n",
        "  optimizer.zero_grad()\n",
        "\n",
        "  #Backpropagation\n",
        "  loss.backward()\n",
        "\n",
        "  #OPtimizer\n",
        "  optimizer.step()\n",
        "\n",
        "  #Testing\n",
        "  model_0.eval()\n",
        "  with torch.inference_mode():\n",
        "    test_pred = model_0(X_test)\n",
        "    test_loss = loss_fn(test_pred, y_test)\n",
        "  if epoch % 10 ==0:\n",
        "    epoch_count.append(epoch)\n",
        "    loss_count.append(loss)\n",
        "    test_loss_count.append(test_loss)\n",
        "    print(f\"Epoch: {epoch} | Loss: {loss} |Test Loss: {test_loss}\")\n",
        "\n",
        "    print(model_0.state_dict())"
      ],
      "metadata": {
        "id": "Xe3zqX0pD7yS",
        "colab": {
          "base_uri": "https://localhost:8080/"
        },
        "outputId": "e5817dd2-1e7c-4c80-e410-25b67645bf5d"
      },
      "execution_count": null,
      "outputs": [
        {
          "output_type": "stream",
          "name": "stdout",
          "text": [
            "Epoch: 0 | Loss: 0.31288138031959534 |Test Loss: 0.48106518387794495\n",
            "OrderedDict([('weights', tensor([0.3406])), ('bias', tensor([0.1388]))])\n",
            "Epoch: 10 | Loss: 0.1976713240146637 |Test Loss: 0.3463551998138428\n",
            "OrderedDict([('weights', tensor([0.3796])), ('bias', tensor([0.2388]))])\n",
            "Epoch: 20 | Loss: 0.08908725529909134 |Test Loss: 0.21729660034179688\n",
            "OrderedDict([('weights', tensor([0.4184])), ('bias', tensor([0.3333]))])\n",
            "Epoch: 30 | Loss: 0.053148526698350906 |Test Loss: 0.14464017748832703\n",
            "OrderedDict([('weights', tensor([0.4512])), ('bias', tensor([0.3768]))])\n",
            "Epoch: 40 | Loss: 0.04543796554207802 |Test Loss: 0.11360953003168106\n",
            "OrderedDict([('weights', tensor([0.4748])), ('bias', tensor([0.3868]))])\n",
            "Epoch: 50 | Loss: 0.04167863354086876 |Test Loss: 0.09919948130846024\n",
            "OrderedDict([('weights', tensor([0.4938])), ('bias', tensor([0.3843]))])\n",
            "Epoch: 60 | Loss: 0.03818932920694351 |Test Loss: 0.08886633068323135\n",
            "OrderedDict([('weights', tensor([0.5116])), ('bias', tensor([0.3788]))])\n",
            "Epoch: 70 | Loss: 0.03476089984178543 |Test Loss: 0.0805937647819519\n",
            "OrderedDict([('weights', tensor([0.5288])), ('bias', tensor([0.3718]))])\n",
            "Epoch: 80 | Loss: 0.03132382780313492 |Test Loss: 0.07232122868299484\n",
            "OrderedDict([('weights', tensor([0.5459])), ('bias', tensor([0.3648]))])\n",
            "Epoch: 90 | Loss: 0.02788739837706089 |Test Loss: 0.06473556160926819\n",
            "OrderedDict([('weights', tensor([0.5629])), ('bias', tensor([0.3573]))])\n",
            "Epoch: 100 | Loss: 0.024458957836031914 |Test Loss: 0.05646304413676262\n",
            "OrderedDict([('weights', tensor([0.5800])), ('bias', tensor([0.3503]))])\n",
            "Epoch: 110 | Loss: 0.021020207554101944 |Test Loss: 0.04819049686193466\n",
            "OrderedDict([('weights', tensor([0.5972])), ('bias', tensor([0.3433]))])\n",
            "Epoch: 120 | Loss: 0.01758546568453312 |Test Loss: 0.04060482233762741\n",
            "OrderedDict([('weights', tensor([0.6141])), ('bias', tensor([0.3358]))])\n",
            "Epoch: 130 | Loss: 0.014155393466353416 |Test Loss: 0.03233227878808975\n",
            "OrderedDict([('weights', tensor([0.6313])), ('bias', tensor([0.3288]))])\n",
            "Epoch: 140 | Loss: 0.010716589167714119 |Test Loss: 0.024059748277068138\n",
            "OrderedDict([('weights', tensor([0.6485])), ('bias', tensor([0.3218]))])\n",
            "Epoch: 150 | Loss: 0.0072835334576666355 |Test Loss: 0.016474086791276932\n",
            "OrderedDict([('weights', tensor([0.6654])), ('bias', tensor([0.3143]))])\n",
            "Epoch: 160 | Loss: 0.0038517764769494534 |Test Loss: 0.008201557211577892\n",
            "OrderedDict([('weights', tensor([0.6826])), ('bias', tensor([0.3073]))])\n",
            "Epoch: 170 | Loss: 0.008932482451200485 |Test Loss: 0.005023092031478882\n",
            "OrderedDict([('weights', tensor([0.6951])), ('bias', tensor([0.2993]))])\n",
            "Epoch: 180 | Loss: 0.008932482451200485 |Test Loss: 0.005023092031478882\n",
            "OrderedDict([('weights', tensor([0.6951])), ('bias', tensor([0.2993]))])\n",
            "Epoch: 190 | Loss: 0.008932482451200485 |Test Loss: 0.005023092031478882\n",
            "OrderedDict([('weights', tensor([0.6951])), ('bias', tensor([0.2993]))])\n"
          ]
        }
      ]
    },
    {
      "cell_type": "markdown",
      "source": [
        "For regression problem (like ours) a loss function of nn.L1Loss() and an optimizer like torch.optim.SGD() will suffice\n",
        "\n",
        "But for problem like classifying whether a photo of a cat or dog , you'll likely want to use a loss function nn.BCELoss() (Binarycross entropy loss)"
      ],
      "metadata": {
        "id": "TR7XUM0Hszgs"
      }
    },
    {
      "cell_type": "code",
      "source": [
        "with torch.inference_mode():\n",
        "  y_preds = model_0(X_test)\n",
        "\n",
        "y_preds, predictions(prediction=y_preds)"
      ],
      "metadata": {
        "id": "EVQcT5SamED8",
        "colab": {
          "base_uri": "https://localhost:8080/",
          "height": 651
        },
        "outputId": "dd199732-26a6-49be-af70-1319c1313dec"
      },
      "execution_count": null,
      "outputs": [
        {
          "output_type": "execute_result",
          "data": {
            "text/plain": [
              "(tensor([[0.8685],\n",
              "         [0.8825],\n",
              "         [0.8965],\n",
              "         [0.9105],\n",
              "         [0.9245],\n",
              "         [0.9384],\n",
              "         [0.9524],\n",
              "         [0.9664],\n",
              "         [0.9804],\n",
              "         [0.9944]]),\n",
              " None)"
            ]
          },
          "metadata": {},
          "execution_count": 19
        },
        {
          "output_type": "display_data",
          "data": {
            "text/plain": [
              "<Figure size 1000x700 with 1 Axes>"
            ],
            "image/png": "[encoded data removed]"
          },
          "metadata": {}
        }
      ]
    },
    {
      "cell_type": "code",
      "source": [
        "plt.plot(epoch_count, torch.tensor(loss_count).cpu().numpy(), label=\"Train_loss\")\n",
        "plt.plot(epoch_count, test_loss_count, label=\"Test loss\")\n",
        "plt.title(\"Training and Test Loss curve\")\n",
        "plt.xlabel(\"Epochs\")\n",
        "plt.ylabel(\"Loss\")\n",
        "plt.legend()"
      ],
      "metadata": {
        "colab": {
          "base_uri": "https://localhost:8080/",
          "height": 489
        },
        "id": "oKoh7oriS_AV",
        "outputId": "5a41c446-fa6c-4fd0-8c2c-08127716073c"
      },
      "execution_count": null,
      "outputs": [
        {
          "output_type": "execute_result",
          "data": {
            "text/plain": [
              "<matplotlib.legend.Legend at 0x7fc19a2afbb0>"
            ]
          },
          "metadata": {},
          "execution_count": 20
        },
        {
          "output_type": "display_data",
          "data": {
            "text/plain": [
              "<Figure size 640x480 with 1 Axes>"
            ],
            "image/png": "[encoded data removed]"
          },
          "metadata": {}
        }
      ]
    },
    {
      "cell_type": "markdown",
      "source": [
        "Three main methods:\n",
        "\n",
        "1. \"torch.save()\" - allows you to save a PyTorch object in Python Pickle format\n",
        "2. \"torch.load()\" - allows you load a saved PyTorch object\n",
        "3. \"torch.nn.Module.load_state_dict()\" - this allows to load a model's saved state dictionary"
      ],
      "metadata": {
        "id": "0kk0wTNc1aHa"
      }
    },
    {
      "cell_type": "markdown",
      "source": [
        "# Saving a Model in Pytorch"
      ],
      "metadata": {
        "id": "iPC_6m7gXxhP"
      }
    },
    {
      "cell_type": "code",
      "source": [
        "# Saving our Pytorch Model\n",
        "from pathlib import Path\n",
        "\n",
        "# Create models directory\n",
        "MODEL_PATH = Path(\"models\")\n",
        "MODEL_PATH.mkdir(parents= True, exist_ok=True)\n",
        "\n",
        "#Create models Save Path\n",
        "MODEL_NAME =\"01_pytorch_workflow_model_0.pth\"\n",
        "\n",
        "MODEL_SAVE_PATH = MODEL_PATH / MODEL_NAME\n",
        "\n",
        "MODEL_SAVE_PATH\n",
        "\n",
        "#Save the model state dict\n",
        "print(f\"SAVING MODEL TO: {MODEL_SAVE_PATH}\")\n",
        "torch.save(obj=model_0.state_dict(),\n",
        "           f=MODEL_SAVE_PATH)"
      ],
      "metadata": {
        "id": "I2wCAg_9rzbq",
        "colab": {
          "base_uri": "https://localhost:8080/"
        },
        "outputId": "1b3c39ac-330b-4206-ebd6-0bddaf1d0758"
      },
      "execution_count": null,
      "outputs": [
        {
          "output_type": "stream",
          "name": "stdout",
          "text": [
            "SAVING MODEL TO: models/01_pytorch_workflow_model_0.pth\n"
          ]
        }
      ]
    },
    {
      "cell_type": "code",
      "source": [
        "model_0"
      ],
      "metadata": {
        "colab": {
          "base_uri": "https://localhost:8080/"
        },
        "id": "riVZBphdZn8O",
        "outputId": "52800b66-4874-46f4-d7c9-83c4688179e3"
      },
      "execution_count": null,
      "outputs": [
        {
          "output_type": "execute_result",
          "data": {
            "text/plain": [
              "LinearRegressionModel()"
            ]
          },
          "metadata": {},
          "execution_count": 22
        }
      ]
    },
    {
      "cell_type": "code",
      "source": [
        "!ls -l models"
      ],
      "metadata": {
        "colab": {
          "base_uri": "https://localhost:8080/"
        },
        "id": "80wL-msigIrb",
        "outputId": "b102d4ad-41be-44c2-df2e-c24fcef3c8c8"
      },
      "execution_count": null,
      "outputs": [
        {
          "output_type": "stream",
          "name": "stdout",
          "text": [
            "total 4\n",
            "-rw-r--r-- 1 root root 1680 May  8 14:06 01_pytorch_workflow_model_0.pth\n"
          ]
        }
      ]
    },
    {
      "cell_type": "code",
      "source": [
        "model_0.state_dict()"
      ],
      "metadata": {
        "colab": {
          "base_uri": "https://localhost:8080/"
        },
        "id": "xpXck3rA0YC7",
        "outputId": "7c1b8fd0-f6bc-4d98-a0ff-1cca5efe73b9"
      },
      "execution_count": null,
      "outputs": [
        {
          "output_type": "execute_result",
          "data": {
            "text/plain": [
              "OrderedDict([('weights', tensor([0.6990])), ('bias', tensor([0.3093]))])"
            ]
          },
          "metadata": {},
          "execution_count": 24
        }
      ]
    },
    {
      "cell_type": "markdown",
      "source": [
        "# Loading a PyTorch Model"
      ],
      "metadata": {
        "id": "SoxRa1w2h0UT"
      }
    },
    {
      "cell_type": "code",
      "source": [
        "loaded_model_0 = LinearRegressionModel()\n",
        "\n",
        "loaded_model_0.load_state_dict(torch.load(f=MODEL_SAVE_PATH))"
      ],
      "metadata": {
        "colab": {
          "base_uri": "https://localhost:8080/"
        },
        "id": "ZNhZ8WuBgYSi",
        "outputId": "77a6966b-aeef-490d-bcae-7c0be78dadd1"
      },
      "execution_count": null,
      "outputs": [
        {
          "output_type": "execute_result",
          "data": {
            "text/plain": [
              "<All keys matched successfully>"
            ]
          },
          "metadata": {},
          "execution_count": 25
        }
      ]
    },
    {
      "cell_type": "code",
      "source": [
        "loaded_model_0.state_dict()"
      ],
      "metadata": {
        "colab": {
          "base_uri": "https://localhost:8080/"
        },
        "id": "_V1Sonxzid7i",
        "outputId": "3941f086-0fe2-4584-de51-95979c6e9f66"
      },
      "execution_count": null,
      "outputs": [
        {
          "output_type": "execute_result",
          "data": {
            "text/plain": [
              "OrderedDict([('weights', tensor([0.6990])), ('bias', tensor([0.3093]))])"
            ]
          },
          "metadata": {},
          "execution_count": 26
        }
      ]
    },
    {
      "cell_type": "code",
      "source": [
        "# Make Some Predictions\n",
        "loaded_model_0.eval()\n",
        "with torch.inference_mode():\n",
        "  loaded_model_preds = loaded_model_0(X_test)\n",
        "loaded_model_preds"
      ],
      "metadata": {
        "colab": {
          "base_uri": "https://localhost:8080/"
        },
        "id": "3T4y6zOC0Vd3",
        "outputId": "e856dd13-60d8-4d7f-bef3-fe0e79419386"
      },
      "execution_count": null,
      "outputs": [
        {
          "output_type": "execute_result",
          "data": {
            "text/plain": [
              "tensor([[0.8685],\n",
              "        [0.8825],\n",
              "        [0.8965],\n",
              "        [0.9105],\n",
              "        [0.9245],\n",
              "        [0.9384],\n",
              "        [0.9524],\n",
              "        [0.9664],\n",
              "        [0.9804],\n",
              "        [0.9944]])"
            ]
          },
          "metadata": {},
          "execution_count": 27
        }
      ]
    },
    {
      "cell_type": "markdown",
      "source": [
        "Steps of a model:\n",
        "\n",
        "1. Get Data Ready(turn into tensors):\n",
        "  torchvision.transforms\n",
        "  torch.utils.data.Dataset\n",
        "  torch.utils.data.DataLoader\n",
        "\n",
        "2. Build or pick a pretrained model(to suit your problem)  (Build a training loop)\n",
        "  \n",
        "  Loss Function - torch.nn, torch.nn.Module, torchvision.models\n",
        "  \n",
        "  Optimizer - torch.optim\n",
        "\n",
        "3. Fit the model to the data and make a prediction\n",
        "\n",
        "4. Evaluate the model - torchmetrics\n",
        "\n",
        "5. Improve through experimentation - torch.utils.tensorboard\n",
        "\n",
        "6. Save and load your trained model"
      ],
      "metadata": {
        "id": "8Ac4pp-g3j1S"
      }
    },
    {
      "cell_type": "markdown",
      "source": [
        "# Putting it all together"
      ],
      "metadata": {
        "id": "gPCl9trG51KL"
      }
    },
    {
      "cell_type": "code",
      "source": [
        "import torch\n",
        "from torch import nn\n",
        "import matplotlib.pyplot as plt\n",
        "\n",
        "\n",
        "torch.__version__"
      ],
      "metadata": {
        "colab": {
          "base_uri": "https://localhost:8080/",
          "height": 35
        },
        "id": "572TrMzY54kw",
        "outputId": "df89a1db-0036-4912-ba0b-131a76536b47"
      },
      "execution_count": null,
      "outputs": [
        {
          "output_type": "execute_result",
          "data": {
            "text/plain": [
              "'2.2.1+cu121'"
            ],
            "application/vnd.google.colaboratory.intrinsic+json": {
              "type": "string"
            }
          },
          "metadata": {},
          "execution_count": 28
        }
      ]
    },
    {
      "cell_type": "code",
      "source": [
        "# Create device agnostic code\n",
        "\n",
        "device = \"cuda\" if torch.cuda.is_available() else \"cpu\"\n",
        "print(device)"
      ],
      "metadata": {
        "colab": {
          "base_uri": "https://localhost:8080/"
        },
        "id": "fpF0a2e06LUJ",
        "outputId": "bd9d5055-52d1-450a-8577-a7e1c2ff6877"
      },
      "execution_count": null,
      "outputs": [
        {
          "output_type": "stream",
          "name": "stdout",
          "text": [
            "cpu\n"
          ]
        }
      ]
    },
    {
      "cell_type": "code",
      "source": [
        "!nvidia-smi"
      ],
      "metadata": {
        "colab": {
          "base_uri": "https://localhost:8080/"
        },
        "id": "kAqwNCUS6r7I",
        "outputId": "e799af26-d6fa-41ac-9ec7-703e8cf639ef"
      },
      "execution_count": null,
      "outputs": [
        {
          "output_type": "stream",
          "name": "stdout",
          "text": [
            "/bin/bash: line 1: nvidia-smi: command not found\n"
          ]
        }
      ]
    },
    {
      "cell_type": "code",
      "source": [
        "weights = 0.7\n",
        "bias = 0.3\n",
        "\n",
        "#Create range values\n",
        "\n",
        "X = torch.arange(0,1,0.02).unsqueeze(dim=1)\n",
        "Y = weights * X + bias\n",
        "X[:10], Y[:10]"
      ],
      "metadata": {
        "id": "bahuupPL8q6_",
        "colab": {
          "base_uri": "https://localhost:8080/"
        },
        "outputId": "7c590b20-c95e-496d-ca13-c4f9e7a78e61"
      },
      "execution_count": null,
      "outputs": [
        {
          "output_type": "execute_result",
          "data": {
            "text/plain": [
              "(tensor([[0.0000],\n",
              "         [0.0200],\n",
              "         [0.0400],\n",
              "         [0.0600],\n",
              "         [0.0800],\n",
              "         [0.1000],\n",
              "         [0.1200],\n",
              "         [0.1400],\n",
              "         [0.1600],\n",
              "         [0.1800]]),\n",
              " tensor([[0.3000],\n",
              "         [0.3140],\n",
              "         [0.3280],\n",
              "         [0.3420],\n",
              "         [0.3560],\n",
              "         [0.3700],\n",
              "         [0.3840],\n",
              "         [0.3980],\n",
              "         [0.4120],\n",
              "         [0.4260]]))"
            ]
          },
          "metadata": {},
          "execution_count": 31
        }
      ]
    },
    {
      "cell_type": "code",
      "source": [
        "#split data\n",
        "train_split = int(0.8 * len(X))\n",
        "X_train, Y_train = X[:train_split], Y[:train_split]\n",
        "X_test, Y_test = X[train_split:], Y[train_split:]\n",
        "len(X_train), len(Y_train), len(X_test), len(Y_test)"
      ],
      "metadata": {
        "colab": {
          "base_uri": "https://localhost:8080/"
        },
        "id": "fQgielp-c27P",
        "outputId": "be85947b-d868-4b35-d0ad-2713ed647cec"
      },
      "execution_count": null,
      "outputs": [
        {
          "output_type": "execute_result",
          "data": {
            "text/plain": [
              "(40, 40, 10, 10)"
            ]
          },
          "metadata": {},
          "execution_count": 32
        }
      ]
    },
    {
      "cell_type": "code",
      "source": [
        "#Plot the Graph\n",
        "def predictions(X_train=X_train,\n",
        "                X_test=X_test,\n",
        "                Y_train=Y_train,\n",
        "                Y_test=Y_test,\n",
        "                prediction=None):\n",
        "  plt.figure(figsize=(10,8))\n",
        "  plt.scatter(X_train, Y_train, label=\"Training Set\", c=\"b\", s=4)\n",
        "  plt.scatter(X_test, Y_test, label=\"Testing Set\", c=\"g\", s=4)\n",
        "  if prediction is not None:\n",
        "    plt.scatter(X_test, prediction, label=\"Prediction\", s=4, c=\"r\")\n",
        "  plt.legend(prop={\"size\":14})\n",
        "  plt.show\n",
        "\n",
        "predictions()"
      ],
      "metadata": {
        "colab": {
          "base_uri": "https://localhost:8080/",
          "height": 519
        },
        "id": "WQ7VsrEWeACZ",
        "outputId": "2ea724e9-8d84-4f28-ea52-b90149c7cfae"
      },
      "execution_count": null,
      "outputs": [
        {
          "output_type": "display_data",
          "data": {
            "text/plain": [
              "<Figure size 1000x800 with 1 Axes>"
            ],
            "image/png": "[encoded data removed]"
          },
          "metadata": {}
        }
      ]
    },
    {
      "cell_type": "code",
      "source": [
        "from torch import nn\n",
        "\n",
        "class LinearRegressionModelV2(nn.Module):\n",
        "  def __init__(self):\n",
        "    super().__init__()\n",
        "    self.linear_layer = nn.Linear(in_features=1,\n",
        "                                  out_features=1)\n",
        "\n",
        "  def forward(self, x: torch.Tensor):\n",
        "    return self.linear_layer(x)\n",
        "\n",
        "torch.manual_seed(42)\n",
        "model_1 = LinearRegressionModelV2()\n",
        "model_1, model_1.state_dict()"
      ],
      "metadata": {
        "colab": {
          "base_uri": "https://localhost:8080/"
        },
        "id": "UCFcwFdSe7Lv",
        "outputId": "e3c9be23-9162-4c93-a90f-465bcadc51f1"
      },
      "execution_count": null,
      "outputs": [
        {
          "output_type": "execute_result",
          "data": {
            "text/plain": [
              "(LinearRegressionModelV2(\n",
              "   (linear_layer): Linear(in_features=1, out_features=1, bias=True)\n",
              " ),\n",
              " OrderedDict([('linear_layer.weight', tensor([[0.7645]])),\n",
              "              ('linear_layer.bias', tensor([0.8300]))]))"
            ]
          },
          "metadata": {},
          "execution_count": 34
        }
      ]
    },
    {
      "cell_type": "code",
      "source": [
        "X_train, Y_train"
      ],
      "metadata": {
        "id": "iZ_jLtojh-qb",
        "colab": {
          "base_uri": "https://localhost:8080/"
        },
        "outputId": "e235e55e-a880-43e4-97b6-e8928ed7f9bf"
      },
      "execution_count": null,
      "outputs": [
        {
          "output_type": "execute_result",
          "data": {
            "text/plain": [
              "(tensor([[0.0000],\n",
              "         [0.0200],\n",
              "         [0.0400],\n",
              "         [0.0600],\n",
              "         [0.0800],\n",
              "         [0.1000],\n",
              "         [0.1200],\n",
              "         [0.1400],\n",
              "         [0.1600],\n",
              "         [0.1800],\n",
              "         [0.2000],\n",
              "         [0.2200],\n",
              "         [0.2400],\n",
              "         [0.2600],\n",
              "         [0.2800],\n",
              "         [0.3000],\n",
              "         [0.3200],\n",
              "         [0.3400],\n",
              "         [0.3600],\n",
              "         [0.3800],\n",
              "         [0.4000],\n",
              "         [0.4200],\n",
              "         [0.4400],\n",
              "         [0.4600],\n",
              "         [0.4800],\n",
              "         [0.5000],\n",
              "         [0.5200],\n",
              "         [0.5400],\n",
              "         [0.5600],\n",
              "         [0.5800],\n",
              "         [0.6000],\n",
              "         [0.6200],\n",
              "         [0.6400],\n",
              "         [0.6600],\n",
              "         [0.6800],\n",
              "         [0.7000],\n",
              "         [0.7200],\n",
              "         [0.7400],\n",
              "         [0.7600],\n",
              "         [0.7800]]),\n",
              " tensor([[0.3000],\n",
              "         [0.3140],\n",
              "         [0.3280],\n",
              "         [0.3420],\n",
              "         [0.3560],\n",
              "         [0.3700],\n",
              "         [0.3840],\n",
              "         [0.3980],\n",
              "         [0.4120],\n",
              "         [0.4260],\n",
              "         [0.4400],\n",
              "         [0.4540],\n",
              "         [0.4680],\n",
              "         [0.4820],\n",
              "         [0.4960],\n",
              "         [0.5100],\n",
              "         [0.5240],\n",
              "         [0.5380],\n",
              "         [0.5520],\n",
              "         [0.5660],\n",
              "         [0.5800],\n",
              "         [0.5940],\n",
              "         [0.6080],\n",
              "         [0.6220],\n",
              "         [0.6360],\n",
              "         [0.6500],\n",
              "         [0.6640],\n",
              "         [0.6780],\n",
              "         [0.6920],\n",
              "         [0.7060],\n",
              "         [0.7200],\n",
              "         [0.7340],\n",
              "         [0.7480],\n",
              "         [0.7620],\n",
              "         [0.7760],\n",
              "         [0.7900],\n",
              "         [0.8040],\n",
              "         [0.8180],\n",
              "         [0.8320],\n",
              "         [0.8460]]))"
            ]
          },
          "metadata": {},
          "execution_count": 35
        }
      ]
    },
    {
      "cell_type": "code",
      "source": [
        "next(model_1.parameters()).device"
      ],
      "metadata": {
        "colab": {
          "base_uri": "https://localhost:8080/"
        },
        "id": "gSfQS6eSEcF6",
        "outputId": "4fd279e0-8cd8-47cd-dade-6cbaf6fa9542"
      },
      "execution_count": null,
      "outputs": [
        {
          "output_type": "execute_result",
          "data": {
            "text/plain": [
              "device(type='cpu')"
            ]
          },
          "metadata": {},
          "execution_count": 36
        }
      ]
    },
    {
      "cell_type": "code",
      "source": [
        "model_1.to(device)\n",
        "next(model_1.parameters()).device"
      ],
      "metadata": {
        "colab": {
          "base_uri": "https://localhost:8080/"
        },
        "id": "458jhBzSEheg",
        "outputId": "f96dd15e-c81d-4757-9027-1883e58728a6"
      },
      "execution_count": null,
      "outputs": [
        {
          "output_type": "execute_result",
          "data": {
            "text/plain": [
              "device(type='cpu')"
            ]
          },
          "metadata": {},
          "execution_count": 37
        }
      ]
    },
    {
      "cell_type": "code",
      "source": [
        "# Training_code:\n",
        "\n",
        "model_1.state_dict()"
      ],
      "metadata": {
        "colab": {
          "base_uri": "https://localhost:8080/"
        },
        "id": "HgYAi3W2HhpE",
        "outputId": "b5c6ecb9-6db9-44e6-8724-e35efe54b2b6"
      },
      "execution_count": null,
      "outputs": [
        {
          "output_type": "execute_result",
          "data": {
            "text/plain": [
              "OrderedDict([('linear_layer.weight', tensor([[0.7645]])),\n",
              "             ('linear_layer.bias', tensor([0.8300]))])"
            ]
          },
          "metadata": {},
          "execution_count": 38
        }
      ]
    },
    {
      "cell_type": "code",
      "source": [
        "print(model_1.parameters())"
      ],
      "metadata": {
        "colab": {
          "base_uri": "https://localhost:8080/"
        },
        "id": "Zpg5OHxJgoOa",
        "outputId": "15bcaa81-a0f6-4130-fcfe-f8757d21f48f"
      },
      "execution_count": null,
      "outputs": [
        {
          "output_type": "stream",
          "name": "stdout",
          "text": [
            "<generator object Module.parameters at 0x7fc199ee86d0>\n"
          ]
        }
      ]
    },
    {
      "cell_type": "code",
      "source": [
        "# Setup Loss Function\n",
        "loss_fn = nn.L1Loss(model_1)\n",
        "\n",
        "# Setup Optimizer\n",
        "optimizer = torch.optim.SGD(params = model_1.parameters(),\n",
        "                            lr = 0.01)"
      ],
      "metadata": {
        "colab": {
          "base_uri": "https://localhost:8080/"
        },
        "id": "jQ1d894bIO0u",
        "outputId": "a9247fe7-c63a-4d53-fde4-81570ad8ca58"
      },
      "execution_count": null,
      "outputs": [
        {
          "output_type": "stream",
          "name": "stderr",
          "text": [
            "/usr/local/lib/python3.10/dist-packages/torch/nn/_reduction.py:42: UserWarning: size_average and reduce args will be deprecated, please use reduction='mean' instead.\n",
            "  warnings.warn(warning.format(ret))\n"
          ]
        }
      ]
    },
    {
      "cell_type": "code",
      "source": [
        "torch.manual_seed(42)"
      ],
      "metadata": {
        "colab": {
          "base_uri": "https://localhost:8080/"
        },
        "id": "FVvYXU7MJLG7",
        "outputId": "7b62b9cc-f3f2-40ee-d10c-9ca568d85db9"
      },
      "execution_count": null,
      "outputs": [
        {
          "output_type": "execute_result",
          "data": {
            "text/plain": [
              "<torch._C.Generator at 0x7fc26efb1c50>"
            ]
          },
          "metadata": {},
          "execution_count": 41
        }
      ]
    },
    {
      "cell_type": "code",
      "source": [
        "epochs = 200\n",
        "epoch_count = []\n",
        "loss_count = []\n",
        "test_loss_count = []\n",
        "for epoch in range(epochs):\n",
        "  # Training Model\n",
        "  model_1.train()\n",
        "\n",
        "  #  Forward Pass\n",
        "  y_pred = model_1(X_train)\n",
        "\n",
        "  #Loss function\n",
        "  loss = loss_fn(y_pred, Y_train)\n",
        "\n",
        "  #Optimizer Zero grad\n",
        "  optimizer.zero_grad()\n",
        "\n",
        "  # Loss Backward Propagation\n",
        "  loss.backward()\n",
        "\n",
        "  #Optimizer step\n",
        "  optimizer.step()\n",
        "\n",
        "  ## Testing\n",
        "  model_1.eval()\n",
        "\n",
        "  with torch.inference_mode():\n",
        "    test_pred = model_1(X_test)\n",
        "\n",
        "    test_loss = loss_fn(test_pred, Y_test)\n",
        "\n",
        "  # Visualization\n",
        "  if epoch%10 == 0:\n",
        "    epoch_count.append(epoch)\n",
        "    loss_count.append(loss)\n",
        "    test_loss_count.append(test_loss)\n",
        "    print(f\"Epoch: {epoch} | Loss:{loss} | test loss:{test_loss}\")"
      ],
      "metadata": {
        "colab": {
          "base_uri": "https://localhost:8080/"
        },
        "id": "yKpoQb14JONw",
        "outputId": "a5344c9a-7047-4395-8c02-dbdcf566c4b3"
      },
      "execution_count": null,
      "outputs": [
        {
          "output_type": "stream",
          "name": "stdout",
          "text": [
            "Epoch: 0 | Loss:0.5551779866218567 | test loss:0.5739762187004089\n",
            "Epoch: 10 | Loss:0.4399680495262146 | test loss:0.4392663538455963\n",
            "Epoch: 20 | Loss:0.3247582018375397 | test loss:0.30455657839775085\n",
            "Epoch: 30 | Loss:0.20954827964305878 | test loss:0.16984674334526062\n",
            "Epoch: 40 | Loss:0.09433844685554504 | test loss:0.03513689711689949\n",
            "Epoch: 50 | Loss:0.023886386305093765 | test loss:0.04784906655550003\n",
            "Epoch: 60 | Loss:0.0199567973613739 | test loss:0.04580312222242355\n",
            "Epoch: 70 | Loss:0.016517987474799156 | test loss:0.0375305712223053\n",
            "Epoch: 80 | Loss:0.013089170679450035 | test loss:0.029944902285933495\n",
            "Epoch: 90 | Loss:0.009653178043663502 | test loss:0.02167237363755703\n",
            "Epoch: 100 | Loss:0.006215679459273815 | test loss:0.014086711220443249\n",
            "Epoch: 110 | Loss:0.002787243574857712 | test loss:0.005814164876937866\n",
            "Epoch: 120 | Loss:0.0012645035749301314 | test loss:0.013801807537674904\n",
            "Epoch: 130 | Loss:0.0012645035749301314 | test loss:0.013801807537674904\n",
            "Epoch: 140 | Loss:0.0012645035749301314 | test loss:0.013801807537674904\n",
            "Epoch: 150 | Loss:0.0012645035749301314 | test loss:0.013801807537674904\n",
            "Epoch: 160 | Loss:0.0012645035749301314 | test loss:0.013801807537674904\n",
            "Epoch: 170 | Loss:0.0012645035749301314 | test loss:0.013801807537674904\n",
            "Epoch: 180 | Loss:0.0012645035749301314 | test loss:0.013801807537674904\n",
            "Epoch: 190 | Loss:0.0012645035749301314 | test loss:0.013801807537674904\n"
          ]
        }
      ]
    },
    {
      "cell_type": "code",
      "source": [
        "model_1.state_dict()"
      ],
      "metadata": {
        "colab": {
          "base_uri": "https://localhost:8080/"
        },
        "id": "rQI33hf5RNF2",
        "outputId": "04a76730-9ff5-4960-ed89-f132b62b012d"
      },
      "execution_count": null,
      "outputs": [
        {
          "output_type": "execute_result",
          "data": {
            "text/plain": [
              "OrderedDict([('linear_layer.weight', tensor([[0.6968]])),\n",
              "             ('linear_layer.bias', tensor([0.3025]))])"
            ]
          },
          "metadata": {},
          "execution_count": 43
        }
      ]
    },
    {
      "cell_type": "code",
      "source": [
        "weights, bias, epoch, loss, test_loss"
      ],
      "metadata": {
        "colab": {
          "base_uri": "https://localhost:8080/"
        },
        "id": "YWqrEtIDbGZZ",
        "outputId": "a81ffb25-2d60-4dad-cff6-0b7205945fa4"
      },
      "execution_count": null,
      "outputs": [
        {
          "output_type": "execute_result",
          "data": {
            "text/plain": [
              "(0.7, 0.3, 199, tensor(0.0103, grad_fn=<MeanBackward0>), tensor(0.0003))"
            ]
          },
          "metadata": {},
          "execution_count": 44
        }
      ]
    },
    {
      "cell_type": "code",
      "source": [
        "model_1.eval()\n",
        "\n",
        "with torch.inference_mode():\n",
        "  y_preds = model_1(X_test)\n",
        "y_preds"
      ],
      "metadata": {
        "colab": {
          "base_uri": "https://localhost:8080/"
        },
        "id": "2GrQr9g9dY0a",
        "outputId": "65aead75-0cfc-4716-b64a-dde2cd688906"
      },
      "execution_count": null,
      "outputs": [
        {
          "output_type": "execute_result",
          "data": {
            "text/plain": [
              "tensor([[0.8600],\n",
              "        [0.8739],\n",
              "        [0.8878],\n",
              "        [0.9018],\n",
              "        [0.9157],\n",
              "        [0.9296],\n",
              "        [0.9436],\n",
              "        [0.9575],\n",
              "        [0.9714],\n",
              "        [0.9854]])"
            ]
          },
          "metadata": {},
          "execution_count": 45
        }
      ]
    },
    {
      "cell_type": "code",
      "source": [
        "predictions(prediction=y_preds)"
      ],
      "metadata": {
        "colab": {
          "base_uri": "https://localhost:8080/",
          "height": 519
        },
        "id": "-h4cOrDQdnMC",
        "outputId": "17c57aee-55ca-4cdb-98b1-e2f01ed0b8f4"
      },
      "execution_count": null,
      "outputs": [
        {
          "output_type": "display_data",
          "data": {
            "text/plain": [
              "<Figure size 1000x800 with 1 Axes>"
            ],
            "image/png": "[encoded data removed]"
          },
          "metadata": {}
        }
      ]
    },
    {
      "cell_type": "code",
      "source": [
        "#Plot predictions:\n",
        "plt.plot(epoch_count,torch.tensor(loss_count).cpu().numpy(), label=\"Training_loss\")\n",
        "plt.plot(epoch_count, test_loss_count, label=\"Testing_loss\")\n",
        "plt.show()"
      ],
      "metadata": {
        "colab": {
          "base_uri": "https://localhost:8080/",
          "height": 434
        },
        "id": "xTs6Zyh6bKK1",
        "outputId": "31dd8060-657a-4ccd-c638-778378065952"
      },
      "execution_count": null,
      "outputs": [
        {
          "output_type": "display_data",
          "data": {
            "text/plain": [
              "<Figure size 640x480 with 1 Axes>"
            ],
            "image/png": "[encoded data removed]"
          },
          "metadata": {}
        }
      ]
    },
    {
      "cell_type": "code",
      "source": [
        "from pathlib import Path\n",
        "model_path = Path(\"models\")\n",
        "model_path.mkdir(parents= True, exist_ok = True)\n",
        "model_name = \"01_pytorch_workflow_model_1.pth\"\n",
        "\n",
        "model_Save = model_path / model_name\n",
        "\n",
        "print(f\"Saving model to:{model_Save}\")\n",
        "torch.save(obj=model_1.state_dict(),\n",
        "           f=model_Save)"
      ],
      "metadata": {
        "colab": {
          "base_uri": "https://localhost:8080/"
        },
        "id": "-3IlmKYvbrQv",
        "outputId": "b83ee752-c6e0-4f7c-deca-e63f154163a5"
      },
      "execution_count": null,
      "outputs": [
        {
          "output_type": "stream",
          "name": "stdout",
          "text": [
            "Saving model to:models/01_pytorch_workflow_model_1.pth\n"
          ]
        }
      ]
    },
    {
      "cell_type": "code",
      "source": [
        "loaded_model_1 = LinearRegressionModelV2()\n",
        "\n",
        "loaded_model_1.load_state_dict(torch.load(model_Save))\n"
      ],
      "metadata": {
        "colab": {
          "base_uri": "https://localhost:8080/"
        },
        "id": "yJ672uzJkC5F",
        "outputId": "eb1f966a-8e44-4e2f-877a-326caf77a922"
      },
      "execution_count": null,
      "outputs": [
        {
          "output_type": "execute_result",
          "data": {
            "text/plain": [
              "<All keys matched successfully>"
            ]
          },
          "metadata": {},
          "execution_count": 49
        }
      ]
    },
    {
      "cell_type": "code",
      "source": [
        "loaded_model_1.eval()\n",
        "with torch.inference_mode():\n",
        "  loaded_model_1_preds = loaded_model_1(X_test)\n",
        "y_preds == loaded_model_1_preds"
      ],
      "metadata": {
        "colab": {
          "base_uri": "https://localhost:8080/"
        },
        "id": "qEactK1Hl_SH",
        "outputId": "c8aa4ba8-6437-4210-c718-cb0e8fc756fb"
      },
      "execution_count": null,
      "outputs": [
        {
          "output_type": "execute_result",
          "data": {
            "text/plain": [
              "tensor([[True],\n",
              "        [True],\n",
              "        [True],\n",
              "        [True],\n",
              "        [True],\n",
              "        [True],\n",
              "        [True],\n",
              "        [True],\n",
              "        [True],\n",
              "        [True]])"
            ]
          },
          "metadata": {},
          "execution_count": 52
        }
      ]
    }
  ]
}