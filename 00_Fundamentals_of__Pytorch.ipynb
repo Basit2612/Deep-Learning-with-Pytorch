{
  "nbformat": 4,
  "nbformat_minor": 0,
  "metadata": {
    "colab": {
      "provenance": [],
      "gpuType": "T4",
      "mount_file_id": "1Yz0DN9jHji_u3WnTP_w9HAGoNJJDbvvC",
      "authorship_tag": "ABX9TyMiI7zhpA/PbjKouf5d/Lan",
      "include_colab_link": true
    },
    "kernelspec": {
      "name": "python3",
      "display_name": "Python 3"
    },
    "language_info": {
      "name": "python"
    },
    "accelerator": "GPU"
  },
  "cells": [
    {
      "cell_type": "markdown",
      "metadata": {
        "id": "view-in-github",
        "colab_type": "text"
      },
      "source": [
        "<a href=\"https://colab.research.google.com/github/Basit2612/Deep-Learning-with-Pytorch/blob/main/00_Fundamentals_of__Pytorch.ipynb\" target=\"_parent\"><img src=\"https://colab.research.google.com/assets/colab-badge.svg\" alt=\"Open In Colab\"/></a>"
      ]
    },
    {
      "cell_type": "code",
      "source": [
        "import torch\n",
        "import pandas as pd\n",
        "import numpy as np\n",
        "import matplotlib.pyplot as plt"
      ],
      "metadata": {
        "id": "627l44z7O6G-"
      },
      "execution_count": null,
      "outputs": []
    },
    {
      "cell_type": "code",
      "source": [
        "print(torch.__version__)"
      ],
      "metadata": {
        "colab": {
          "base_uri": "https://localhost:8080/"
        },
        "id": "EbiVcB2vPi1P",
        "outputId": "e20c1592-d432-4297-f3f0-b727955af089"
      },
      "execution_count": null,
      "outputs": [
        {
          "output_type": "stream",
          "name": "stdout",
          "text": [
            "2.3.0+cu121\n"
          ]
        }
      ]
    },
    {
      "cell_type": "markdown",
      "source": [
        "# Introduction to Tensors"
      ],
      "metadata": {
        "id": "UCD9vkZzXtgi"
      }
    },
    {
      "cell_type": "markdown",
      "source": [
        "Creating Tensors"
      ],
      "metadata": {
        "id": "ChkG3ktjX2Bq"
      }
    },
    {
      "cell_type": "code",
      "source": [
        "scalar = torch.tensor(7)\n",
        "print(scalar)"
      ],
      "metadata": {
        "colab": {
          "base_uri": "https://localhost:8080/"
        },
        "id": "q38dgnZ3X0cB",
        "outputId": "7ea520fc-32f5-4123-b245-6dceaac8a91a"
      },
      "execution_count": null,
      "outputs": [
        {
          "output_type": "stream",
          "name": "stdout",
          "text": [
            "tensor(7)\n"
          ]
        }
      ]
    },
    {
      "cell_type": "code",
      "source": [
        "scalar.ndim"
      ],
      "metadata": {
        "colab": {
          "base_uri": "https://localhost:8080/"
        },
        "id": "oMb5l6_QYHmq",
        "outputId": "47ed70d4-d581-4eca-d9c7-0ff8eab4003d"
      },
      "execution_count": null,
      "outputs": [
        {
          "output_type": "execute_result",
          "data": {
            "text/plain": [
              "0"
            ]
          },
          "metadata": {},
          "execution_count": 4
        }
      ]
    },
    {
      "cell_type": "code",
      "source": [
        "scalar.item()"
      ],
      "metadata": {
        "colab": {
          "base_uri": "https://localhost:8080/"
        },
        "id": "47b6AGnRYYpE",
        "outputId": "8161d4a1-5824-4ad2-fe47-8440d69b1213"
      },
      "execution_count": null,
      "outputs": [
        {
          "output_type": "execute_result",
          "data": {
            "text/plain": [
              "7"
            ]
          },
          "metadata": {},
          "execution_count": 5
        }
      ]
    },
    {
      "cell_type": "code",
      "source": [
        "vector = torch.tensor([7, 7])\n",
        "print(vector)"
      ],
      "metadata": {
        "colab": {
          "base_uri": "https://localhost:8080/"
        },
        "id": "36anUkwlYue-",
        "outputId": "e9cadd73-ff7d-426b-c3f5-7e571b061b27"
      },
      "execution_count": null,
      "outputs": [
        {
          "output_type": "stream",
          "name": "stdout",
          "text": [
            "tensor([7, 7])\n"
          ]
        }
      ]
    },
    {
      "cell_type": "code",
      "source": [
        "vector.shape"
      ],
      "metadata": {
        "colab": {
          "base_uri": "https://localhost:8080/"
        },
        "id": "fCouw00QY2PO",
        "outputId": "53c4d957-98c8-48e0-d4ec-ff064b57fccc"
      },
      "execution_count": null,
      "outputs": [
        {
          "output_type": "execute_result",
          "data": {
            "text/plain": [
              "torch.Size([2])"
            ]
          },
          "metadata": {},
          "execution_count": 7
        }
      ]
    },
    {
      "cell_type": "code",
      "source": [
        "matrix = torch.tensor([[7, 8],\n",
        "                       [9, 1]])\n",
        "print(matrix)"
      ],
      "metadata": {
        "colab": {
          "base_uri": "https://localhost:8080/"
        },
        "id": "0V7jmjN_ZA-i",
        "outputId": "2951753d-09d9-4297-f525-004a6b1517f5"
      },
      "execution_count": null,
      "outputs": [
        {
          "output_type": "stream",
          "name": "stdout",
          "text": [
            "tensor([[7, 8],\n",
            "        [9, 1]])\n"
          ]
        }
      ]
    },
    {
      "cell_type": "code",
      "source": [
        "matrix.ndim"
      ],
      "metadata": {
        "colab": {
          "base_uri": "https://localhost:8080/"
        },
        "id": "LltxjPnLZTy2",
        "outputId": "210c75ef-4e6d-4666-b16e-1135bb00e5d1"
      },
      "execution_count": null,
      "outputs": [
        {
          "output_type": "execute_result",
          "data": {
            "text/plain": [
              "2"
            ]
          },
          "metadata": {},
          "execution_count": 9
        }
      ]
    },
    {
      "cell_type": "code",
      "source": [
        "matrix[0][0].item()"
      ],
      "metadata": {
        "colab": {
          "base_uri": "https://localhost:8080/"
        },
        "id": "uW5Bg0iLZWdU",
        "outputId": "527a8507-098f-4dd8-9689-0a0e3a9e5e33"
      },
      "execution_count": null,
      "outputs": [
        {
          "output_type": "execute_result",
          "data": {
            "text/plain": [
              "7"
            ]
          },
          "metadata": {},
          "execution_count": 10
        }
      ]
    },
    {
      "cell_type": "code",
      "source": [
        "scalar"
      ],
      "metadata": {
        "colab": {
          "base_uri": "https://localhost:8080/"
        },
        "id": "FVwwz-OtZZbV",
        "outputId": "51fab86e-b796-497f-ce73-08e03a317ea2"
      },
      "execution_count": null,
      "outputs": [
        {
          "output_type": "execute_result",
          "data": {
            "text/plain": [
              "tensor(7)"
            ]
          },
          "metadata": {},
          "execution_count": 11
        }
      ]
    },
    {
      "cell_type": "code",
      "source": [
        "tensor = torch.tensor([[[1,2],\n",
        "                        [3,4]],\n",
        "\n",
        "                       [[5,6],\n",
        "                        [7,8]]])\n",
        "print(tensor)"
      ],
      "metadata": {
        "colab": {
          "base_uri": "https://localhost:8080/"
        },
        "id": "5WVw_QG4Zd14",
        "outputId": "e053fd29-25f0-4327-ed57-1c4c697aade9"
      },
      "execution_count": null,
      "outputs": [
        {
          "output_type": "stream",
          "name": "stdout",
          "text": [
            "tensor([[[1, 2],\n",
            "         [3, 4]],\n",
            "\n",
            "        [[5, 6],\n",
            "         [7, 8]]])\n"
          ]
        }
      ]
    },
    {
      "cell_type": "code",
      "source": [
        "tensor.ndim"
      ],
      "metadata": {
        "colab": {
          "base_uri": "https://localhost:8080/"
        },
        "id": "xaS8BhbyaRxg",
        "outputId": "c96c7945-a496-4f59-ab4d-42745d198abd"
      },
      "execution_count": null,
      "outputs": [
        {
          "output_type": "execute_result",
          "data": {
            "text/plain": [
              "3"
            ]
          },
          "metadata": {},
          "execution_count": 13
        }
      ]
    },
    {
      "cell_type": "code",
      "source": [
        "random_tensor = torch.rand(1, 3, 4)\n",
        "random_tensor.shape"
      ],
      "metadata": {
        "colab": {
          "base_uri": "https://localhost:8080/"
        },
        "id": "HPVJbJ5Hao2g",
        "outputId": "778d7443-f535-4344-bf70-1995bd96d37d"
      },
      "execution_count": null,
      "outputs": [
        {
          "output_type": "execute_result",
          "data": {
            "text/plain": [
              "torch.Size([1, 3, 4])"
            ]
          },
          "metadata": {},
          "execution_count": 14
        }
      ]
    },
    {
      "cell_type": "code",
      "source": [
        "random_tensor.ndim"
      ],
      "metadata": {
        "colab": {
          "base_uri": "https://localhost:8080/"
        },
        "id": "cOXqrrIWbNyU",
        "outputId": "d489c10d-0968-40f7-802f-10117cce656f"
      },
      "execution_count": null,
      "outputs": [
        {
          "output_type": "execute_result",
          "data": {
            "text/plain": [
              "3"
            ]
          },
          "metadata": {},
          "execution_count": 15
        }
      ]
    },
    {
      "cell_type": "code",
      "source": [
        "random_image_tensor = torch.rand(size=(224, 224, 3))\n",
        "random_image_tensor.ndim, random_image_tensor.shape"
      ],
      "metadata": {
        "colab": {
          "base_uri": "https://localhost:8080/"
        },
        "id": "X4OapIlZbWeo",
        "outputId": "c2789c53-ed0e-4c6d-ce1e-4bc17827b21d"
      },
      "execution_count": null,
      "outputs": [
        {
          "output_type": "execute_result",
          "data": {
            "text/plain": [
              "(3, torch.Size([224, 224, 3]))"
            ]
          },
          "metadata": {},
          "execution_count": 16
        }
      ]
    },
    {
      "cell_type": "code",
      "source": [
        "random_image_tensor"
      ],
      "metadata": {
        "colab": {
          "base_uri": "https://localhost:8080/"
        },
        "id": "8OwNnpWRb31A",
        "outputId": "ba23f3be-6d14-4d6f-daf8-49a0b57dfacb"
      },
      "execution_count": null,
      "outputs": [
        {
          "output_type": "execute_result",
          "data": {
            "text/plain": [
              "tensor([[[0.1972, 0.6267, 0.7693],\n",
              "         [0.2651, 0.8812, 0.5870],\n",
              "         [0.6040, 0.2246, 0.8485],\n",
              "         ...,\n",
              "         [0.9127, 0.2067, 0.5577],\n",
              "         [0.6640, 0.4067, 0.5761],\n",
              "         [0.0556, 0.7837, 0.7154]],\n",
              "\n",
              "        [[0.6502, 0.9581, 0.3953],\n",
              "         [0.1753, 0.1744, 0.6720],\n",
              "         [0.2702, 0.0195, 0.2606],\n",
              "         ...,\n",
              "         [0.0961, 0.3862, 0.6655],\n",
              "         [0.2990, 0.8876, 0.0386],\n",
              "         [0.5651, 0.9866, 0.6338]],\n",
              "\n",
              "        [[0.0089, 0.2082, 0.6508],\n",
              "         [0.7091, 0.2113, 0.3550],\n",
              "         [0.2673, 0.9425, 0.0840],\n",
              "         ...,\n",
              "         [0.7535, 0.0299, 0.6494],\n",
              "         [0.1016, 0.7435, 0.1145],\n",
              "         [0.7693, 0.8893, 0.8508]],\n",
              "\n",
              "        ...,\n",
              "\n",
              "        [[0.0037, 0.7269, 0.3331],\n",
              "         [0.8460, 0.5504, 0.3770],\n",
              "         [0.3889, 0.6942, 0.8134],\n",
              "         ...,\n",
              "         [0.2363, 0.4555, 0.7001],\n",
              "         [0.3973, 0.5588, 0.6822],\n",
              "         [0.7499, 0.3338, 0.9041]],\n",
              "\n",
              "        [[0.6706, 0.4938, 0.2538],\n",
              "         [0.8179, 0.7431, 0.1399],\n",
              "         [0.5018, 0.2416, 0.9971],\n",
              "         ...,\n",
              "         [0.8673, 0.9836, 0.9487],\n",
              "         [0.9490, 0.4701, 0.6665],\n",
              "         [0.1969, 0.5436, 0.8455]],\n",
              "\n",
              "        [[0.5848, 0.9603, 0.2273],\n",
              "         [0.3953, 0.1701, 0.7597],\n",
              "         [0.9604, 0.1284, 0.9525],\n",
              "         ...,\n",
              "         [0.5301, 0.1194, 0.7512],\n",
              "         [0.6899, 0.6279, 0.5006],\n",
              "         [0.7986, 0.3893, 0.2632]]])"
            ]
          },
          "metadata": {},
          "execution_count": 17
        }
      ]
    },
    {
      "cell_type": "code",
      "source": [
        "zero = torch.zeros(3)\n",
        "print(zero)"
      ],
      "metadata": {
        "colab": {
          "base_uri": "https://localhost:8080/"
        },
        "id": "PXiD8G1VcCS4",
        "outputId": "2b90081c-d3db-4a09-e8e6-23e0e31c9399"
      },
      "execution_count": null,
      "outputs": [
        {
          "output_type": "stream",
          "name": "stdout",
          "text": [
            "tensor([0., 0., 0.])\n"
          ]
        }
      ]
    },
    {
      "cell_type": "code",
      "source": [
        "zero.dtype"
      ],
      "metadata": {
        "colab": {
          "base_uri": "https://localhost:8080/"
        },
        "id": "J7FDWMugc4YS",
        "outputId": "04ec4db1-74b0-4a81-acf5-19e02bb6a861"
      },
      "execution_count": null,
      "outputs": [
        {
          "output_type": "execute_result",
          "data": {
            "text/plain": [
              "torch.float32"
            ]
          },
          "metadata": {},
          "execution_count": 19
        }
      ]
    },
    {
      "cell_type": "code",
      "source": [
        "range = torch.arange(0, 10)\n",
        "print(range)"
      ],
      "metadata": {
        "colab": {
          "base_uri": "https://localhost:8080/"
        },
        "id": "CBqWoM5jdB1h",
        "outputId": "13268ed6-7dc2-41ef-fe91-d1683e4e0b8a"
      },
      "execution_count": null,
      "outputs": [
        {
          "output_type": "stream",
          "name": "stdout",
          "text": [
            "tensor([0, 1, 2, 3, 4, 5, 6, 7, 8, 9])\n"
          ]
        }
      ]
    },
    {
      "cell_type": "code",
      "source": [
        "one_to_ten =  torch.zeros_like(zero)\n",
        "one_to_ten"
      ],
      "metadata": {
        "colab": {
          "base_uri": "https://localhost:8080/"
        },
        "id": "1qtI2y63dKcK",
        "outputId": "956b3628-24d3-43b0-9d51-5a5e1b79621c"
      },
      "execution_count": null,
      "outputs": [
        {
          "output_type": "execute_result",
          "data": {
            "text/plain": [
              "tensor([0., 0., 0.])"
            ]
          },
          "metadata": {},
          "execution_count": 21
        }
      ]
    },
    {
      "cell_type": "code",
      "source": [
        "tensor_32 = torch.tensor([3.0, 9., 6.],dtype=None,device = \"cuda\", requires_grad=False)\n",
        "tensor_32"
      ],
      "metadata": {
        "colab": {
          "base_uri": "https://localhost:8080/"
        },
        "id": "yvXv-kOedtap",
        "outputId": "b3726fb1-2789-49dd-b85d-6be4128fec51"
      },
      "execution_count": null,
      "outputs": [
        {
          "output_type": "execute_result",
          "data": {
            "text/plain": [
              "tensor([3., 9., 6.], device='cuda:0')"
            ]
          },
          "metadata": {},
          "execution_count": 22
        }
      ]
    },
    {
      "cell_type": "code",
      "source": [
        "one_to_ten.device"
      ],
      "metadata": {
        "colab": {
          "base_uri": "https://localhost:8080/"
        },
        "id": "ydD5QORve4Zv",
        "outputId": "34423bd9-228b-4123-da59-17f2e688512f"
      },
      "execution_count": null,
      "outputs": [
        {
          "output_type": "execute_result",
          "data": {
            "text/plain": [
              "device(type='cpu')"
            ]
          },
          "metadata": {},
          "execution_count": 23
        }
      ]
    },
    {
      "cell_type": "code",
      "source": [
        "tf = torch.matmul(tensor_32, tensor_32)\n",
        "tf"
      ],
      "metadata": {
        "id": "VUjUlGC7h4Sy",
        "colab": {
          "base_uri": "https://localhost:8080/"
        },
        "outputId": "b392d072-f0bc-4ccf-f298-995b5af4fcd4"
      },
      "execution_count": null,
      "outputs": [
        {
          "output_type": "execute_result",
          "data": {
            "text/plain": [
              "tensor(126., device='cuda:0')"
            ]
          },
          "metadata": {},
          "execution_count": 24
        }
      ]
    },
    {
      "cell_type": "code",
      "source": [
        "tensor_32"
      ],
      "metadata": {
        "colab": {
          "base_uri": "https://localhost:8080/"
        },
        "id": "xklm7wnO3qw5",
        "outputId": "562cd150-ac20-4304-8635-ef930e60765f"
      },
      "execution_count": null,
      "outputs": [
        {
          "output_type": "execute_result",
          "data": {
            "text/plain": [
              "tensor([3., 9., 6.], device='cuda:0')"
            ]
          },
          "metadata": {},
          "execution_count": 25
        }
      ]
    },
    {
      "cell_type": "code",
      "source": [
        "import time\n",
        "print(time)"
      ],
      "metadata": {
        "id": "2h7vGYAW4BZp",
        "colab": {
          "base_uri": "https://localhost:8080/"
        },
        "outputId": "3da7abf5-8af3-461b-8602-f4da47d710ef"
      },
      "execution_count": null,
      "outputs": [
        {
          "output_type": "stream",
          "name": "stdout",
          "text": [
            "<module 'time' (built-in)>\n"
          ]
        }
      ]
    },
    {
      "cell_type": "code",
      "source": [
        "len(tensor)"
      ],
      "metadata": {
        "id": "6MmAbUvO6kE-",
        "colab": {
          "base_uri": "https://localhost:8080/"
        },
        "outputId": "036aae5f-6907-4c48-be24-253ca9f5e3da"
      },
      "execution_count": null,
      "outputs": [
        {
          "output_type": "execute_result",
          "data": {
            "text/plain": [
              "2"
            ]
          },
          "metadata": {},
          "execution_count": 27
        }
      ]
    },
    {
      "cell_type": "code",
      "source": [
        "%%time\n",
        "start_time = time.time()\n",
        "torch.matmul(tensor_32, tensor_32)\n",
        "end_time = time.time()\n",
        "total_time = end_time - start_time\n",
        "total_time"
      ],
      "metadata": {
        "id": "CjKRPOLs7N1K",
        "colab": {
          "base_uri": "https://localhost:8080/"
        },
        "outputId": "cced98f5-ca02-479c-9fe7-95fffec03786"
      },
      "execution_count": null,
      "outputs": [
        {
          "output_type": "stream",
          "name": "stdout",
          "text": [
            "CPU times: user 122 µs, sys: 26 µs, total: 148 µs\n",
            "Wall time: 154 µs\n"
          ]
        },
        {
          "output_type": "execute_result",
          "data": {
            "text/plain": [
              "0.00012159347534179688"
            ]
          },
          "metadata": {},
          "execution_count": 28
        }
      ]
    },
    {
      "cell_type": "code",
      "source": [
        "tensor_32.shape"
      ],
      "metadata": {
        "id": "dC6Yk5v5LGsk",
        "colab": {
          "base_uri": "https://localhost:8080/"
        },
        "outputId": "82ca9136-15a8-4e1f-8513-daa1c8113ddc"
      },
      "execution_count": null,
      "outputs": [
        {
          "output_type": "execute_result",
          "data": {
            "text/plain": [
              "torch.Size([3])"
            ]
          },
          "metadata": {},
          "execution_count": 29
        }
      ]
    },
    {
      "cell_type": "code",
      "source": [
        "tensor_32.size(0)"
      ],
      "metadata": {
        "id": "VF991ThoMN4P",
        "colab": {
          "base_uri": "https://localhost:8080/"
        },
        "outputId": "8526771a-60af-44b9-fc24-4601b63b68be"
      },
      "execution_count": null,
      "outputs": [
        {
          "output_type": "execute_result",
          "data": {
            "text/plain": [
              "3"
            ]
          },
          "metadata": {},
          "execution_count": 30
        }
      ]
    },
    {
      "cell_type": "code",
      "source": [
        "tensor_A = torch.tensor([[1,2],\n",
        "                         [3,4],\n",
        "                         [5, 6]])\n",
        "\n",
        "tensor_B = torch.tensor([[7, 8],\n",
        "                         [9, 10],\n",
        "                         [11, 12]])"
      ],
      "metadata": {
        "id": "CWQLpDdfMR7Y"
      },
      "execution_count": null,
      "outputs": []
    },
    {
      "cell_type": "code",
      "source": [
        "tensor_B.T"
      ],
      "metadata": {
        "id": "kh0FcCc-M6xH",
        "colab": {
          "base_uri": "https://localhost:8080/"
        },
        "outputId": "bc2ee125-6bbd-4972-e0c3-d595345d7104"
      },
      "execution_count": null,
      "outputs": [
        {
          "output_type": "execute_result",
          "data": {
            "text/plain": [
              "tensor([[ 7,  9, 11],\n",
              "        [ 8, 10, 12]])"
            ]
          },
          "metadata": {},
          "execution_count": 32
        }
      ]
    },
    {
      "cell_type": "code",
      "source": [
        "mat_2 = torch.matmul(tensor_A, tensor_B.T)\n",
        "mat_2"
      ],
      "metadata": {
        "id": "gKROyriINIOu",
        "colab": {
          "base_uri": "https://localhost:8080/"
        },
        "outputId": "95e9f301-e40d-4f90-950d-4a4faa0c5c8a"
      },
      "execution_count": null,
      "outputs": [
        {
          "output_type": "execute_result",
          "data": {
            "text/plain": [
              "tensor([[ 23,  29,  35],\n",
              "        [ 53,  67,  81],\n",
              "        [ 83, 105, 127]])"
            ]
          },
          "metadata": {},
          "execution_count": 33
        }
      ]
    },
    {
      "cell_type": "code",
      "source": [
        "tensor_A @ tensor_B.T"
      ],
      "metadata": {
        "id": "Jlo4WpP_NRts",
        "colab": {
          "base_uri": "https://localhost:8080/"
        },
        "outputId": "ed57e0fd-a48e-4578-bb99-73ddb0cfcb42"
      },
      "execution_count": null,
      "outputs": [
        {
          "output_type": "execute_result",
          "data": {
            "text/plain": [
              "tensor([[ 23,  29,  35],\n",
              "        [ 53,  67,  81],\n",
              "        [ 83, 105, 127]])"
            ]
          },
          "metadata": {},
          "execution_count": 34
        }
      ]
    },
    {
      "cell_type": "code",
      "source": [
        "tensor_A * tensor_B"
      ],
      "metadata": {
        "id": "YYkg2lxBNfCm",
        "colab": {
          "base_uri": "https://localhost:8080/"
        },
        "outputId": "43263a40-ebc3-43d5-af04-d481406f914c"
      },
      "execution_count": null,
      "outputs": [
        {
          "output_type": "execute_result",
          "data": {
            "text/plain": [
              "tensor([[ 7, 16],\n",
              "        [27, 40],\n",
              "        [55, 72]])"
            ]
          },
          "metadata": {},
          "execution_count": 35
        }
      ]
    },
    {
      "cell_type": "code",
      "source": [
        "torch.argmax(tensor_A)"
      ],
      "metadata": {
        "id": "ggADIRRpNkIX",
        "colab": {
          "base_uri": "https://localhost:8080/"
        },
        "outputId": "7d506814-e1e4-4bde-c5a8-789ecf99cf0a"
      },
      "execution_count": null,
      "outputs": [
        {
          "output_type": "execute_result",
          "data": {
            "text/plain": [
              "tensor(5)"
            ]
          },
          "metadata": {},
          "execution_count": 36
        }
      ]
    },
    {
      "cell_type": "code",
      "source": [
        "x = torch.arange(0,100, 10)\n",
        "x"
      ],
      "metadata": {
        "id": "DM3zs2FMN8Td",
        "colab": {
          "base_uri": "https://localhost:8080/"
        },
        "outputId": "1db080a3-bfd7-4df7-d757-29d6770023b1"
      },
      "execution_count": null,
      "outputs": [
        {
          "output_type": "execute_result",
          "data": {
            "text/plain": [
              "tensor([ 0, 10, 20, 30, 40, 50, 60, 70, 80, 90])"
            ]
          },
          "metadata": {},
          "execution_count": 37
        }
      ]
    },
    {
      "cell_type": "code",
      "source": [
        "torch.min(x), x.min()"
      ],
      "metadata": {
        "id": "Bp_w8YpxOE8k",
        "colab": {
          "base_uri": "https://localhost:8080/"
        },
        "outputId": "152e6f4b-eed1-48e0-f649-01d10bbe7843"
      },
      "execution_count": null,
      "outputs": [
        {
          "output_type": "execute_result",
          "data": {
            "text/plain": [
              "(tensor(0), tensor(0))"
            ]
          },
          "metadata": {},
          "execution_count": 38
        }
      ]
    },
    {
      "cell_type": "code",
      "source": [
        "torch.max(x), x.max()"
      ],
      "metadata": {
        "id": "Jb0n9arlOMS5",
        "colab": {
          "base_uri": "https://localhost:8080/"
        },
        "outputId": "29c49b24-adbd-478b-8191-6b673411ea96"
      },
      "execution_count": null,
      "outputs": [
        {
          "output_type": "execute_result",
          "data": {
            "text/plain": [
              "(tensor(90), tensor(90))"
            ]
          },
          "metadata": {},
          "execution_count": 39
        }
      ]
    },
    {
      "cell_type": "code",
      "source": [
        "torch.mean(x.type(torch.float32)), x.type(torch.float32).mean()"
      ],
      "metadata": {
        "id": "5MkexaITOXeH",
        "colab": {
          "base_uri": "https://localhost:8080/"
        },
        "outputId": "1ba58384-fc0a-43f4-8fa6-6ca116e6b7ca"
      },
      "execution_count": null,
      "outputs": [
        {
          "output_type": "execute_result",
          "data": {
            "text/plain": [
              "(tensor(45.), tensor(45.))"
            ]
          },
          "metadata": {},
          "execution_count": 40
        }
      ]
    },
    {
      "cell_type": "code",
      "source": [
        "x.argmax()"
      ],
      "metadata": {
        "id": "u2XZF_HlOuPf",
        "colab": {
          "base_uri": "https://localhost:8080/"
        },
        "outputId": "1fbb41cc-7f46-4ccb-9d92-4618b15e220e"
      },
      "execution_count": null,
      "outputs": [
        {
          "output_type": "execute_result",
          "data": {
            "text/plain": [
              "tensor(9)"
            ]
          },
          "metadata": {},
          "execution_count": 41
        }
      ]
    },
    {
      "cell_type": "code",
      "source": [
        "x.argmin()"
      ],
      "metadata": {
        "id": "QuUd_JO0PSQ7",
        "colab": {
          "base_uri": "https://localhost:8080/"
        },
        "outputId": "7933f21a-09a4-4607-9072-2b731d029db9"
      },
      "execution_count": null,
      "outputs": [
        {
          "output_type": "execute_result",
          "data": {
            "text/plain": [
              "tensor(0)"
            ]
          },
          "metadata": {},
          "execution_count": 42
        }
      ]
    },
    {
      "cell_type": "code",
      "source": [
        "x = torch.arange(1.,100.,10)\n",
        "x, x.shape"
      ],
      "metadata": {
        "colab": {
          "base_uri": "https://localhost:8080/"
        },
        "id": "sfOsSegUoN_6",
        "outputId": "62304541-6f01-48bc-ffd6-b82dfc5ea298"
      },
      "execution_count": null,
      "outputs": [
        {
          "output_type": "execute_result",
          "data": {
            "text/plain": [
              "(tensor([ 1., 11., 21., 31., 41., 51., 61., 71., 81., 91.]), torch.Size([10]))"
            ]
          },
          "metadata": {},
          "execution_count": 43
        }
      ]
    },
    {
      "cell_type": "code",
      "source": [
        "import torch\n",
        "import numpy as np\n",
        "\n",
        "array = np.arange(1,10,1).astype(np.float32)\n",
        "tensor = torch.from_numpy(array).type(torch.float32)\n",
        "array.dtype, tensor.dtype"
      ],
      "metadata": {
        "colab": {
          "base_uri": "https://localhost:8080/"
        },
        "id": "9r9gb-stohtG",
        "outputId": "505ec0b8-a75b-417d-f4a8-50087ea158c3"
      },
      "execution_count": null,
      "outputs": [
        {
          "output_type": "execute_result",
          "data": {
            "text/plain": [
              "(dtype('float32'), torch.float32)"
            ]
          },
          "metadata": {},
          "execution_count": 44
        }
      ]
    },
    {
      "cell_type": "code",
      "source": [
        "tg = torch.arange(1, 10,1)\n",
        "tg.dtype, tg"
      ],
      "metadata": {
        "colab": {
          "base_uri": "https://localhost:8080/"
        },
        "id": "4IVCmSyXwB6D",
        "outputId": "01cca830-73ac-4f25-f195-cb80aad46d76"
      },
      "execution_count": null,
      "outputs": [
        {
          "output_type": "execute_result",
          "data": {
            "text/plain": [
              "(torch.int64, tensor([1, 2, 3, 4, 5, 6, 7, 8, 9]))"
            ]
          },
          "metadata": {},
          "execution_count": 45
        }
      ]
    },
    {
      "cell_type": "code",
      "source": [
        "tg.numpy().astype(np.float32)"
      ],
      "metadata": {
        "colab": {
          "base_uri": "https://localhost:8080/"
        },
        "id": "l8U4gAO5wQ0N",
        "outputId": "7e87961a-fe95-49fd-91c8-7101e9706ed2"
      },
      "execution_count": null,
      "outputs": [
        {
          "output_type": "execute_result",
          "data": {
            "text/plain": [
              "array([1., 2., 3., 4., 5., 6., 7., 8., 9.], dtype=float32)"
            ]
          },
          "metadata": {},
          "execution_count": 46
        }
      ]
    },
    {
      "cell_type": "code",
      "source": [],
      "metadata": {
        "id": "Hms8U0yEyCUb"
      },
      "execution_count": null,
      "outputs": []
    }
  ]
}